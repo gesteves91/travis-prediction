{
 "cells": [
  {
   "cell_type": "markdown",
   "metadata": {},
   "source": [
    "# Exploration\n"
   ]
  },
  {
   "cell_type": "markdown",
   "metadata": {},
   "source": [
    "#### Import libraries"
   ]
  },
  {
   "cell_type": "code",
   "execution_count": 64,
   "metadata": {},
   "outputs": [],
   "source": [
    "import pandas as pd"
   ]
  },
  {
   "cell_type": "code",
   "execution_count": 65,
   "metadata": {},
   "outputs": [],
   "source": [
    "pd.set_option('display.max_rows', 500)\n",
    "pd.set_option('display.max_columns', 500)\n",
    "pd.set_option('display.width', 1000)"
   ]
  },
  {
   "cell_type": "markdown",
   "metadata": {},
   "source": [
    "##### Import data"
   ]
  },
  {
   "cell_type": "code",
   "execution_count": 66,
   "metadata": {},
   "outputs": [],
   "source": [
    "# load data\n",
    "df = pd.read_csv('../data/travis-1.csv')"
   ]
  },
  {
   "cell_type": "code",
   "execution_count": 67,
   "metadata": {},
   "outputs": [
    {
     "data": {
      "text/plain": [
       "(3702595, 62)"
      ]
     },
     "execution_count": 67,
     "metadata": {},
     "output_type": "execute_result"
    }
   ],
   "source": [
    "df.shape"
   ]
  },
  {
   "cell_type": "markdown",
   "metadata": {},
   "source": [
    "##### Data Cleaning"
   ]
  },
  {
   "cell_type": "code",
   "execution_count": 68,
   "metadata": {},
   "outputs": [],
   "source": [
    "df[\"gh_pr_created_at\"] = df[\"gh_pr_created_at\"].fillna(0)\n",
    "df[\"gh_pull_req_num\"] = df[\"gh_pull_req_num\"].fillna(0)\n",
    "df[\"git_merged_with\"] = df[\"git_merged_with\"].fillna(0)\n",
    "df[\"gh_num_commits_in_push\"] = df[\"gh_num_commits_in_push\"].fillna(0)\n",
    "df[\"gh_commits_in_push\"] = df[\"gh_commits_in_push\"].fillna(0)\n",
    "df[\"gh_first_commit_created_at\"] = df[\"gh_first_commit_created_at\"].fillna(0)\n",
    "df[\"tr_virtual_merged_into\"] = df[\"tr_virtual_merged_into\"].fillna(0)\n",
    "df[\"gh_num_issue_comments\"] = df[\"gh_num_issue_comments\"].fillna(0)\n",
    "df[\"gh_num_pr_comments\"] = df[\"gh_num_pr_comments\"].fillna(0)\n",
    "df[\"gh_description_complexity\"] = df[\"gh_description_complexity\"].fillna(0)\n",
    "df[\"gh_pushed_at\"] = df[\"gh_pushed_at\"].fillna(0)\n",
    "df[\"tr_log_setup_time\"] = df[\"tr_log_setup_time\"].fillna(0)\n",
    "df[\"tr_log_frameworks\"] = df[\"tr_log_frameworks\"].fillna(0)\n",
    "df[\"tr_log_bool_tests_failed\"] = df[\"tr_log_bool_tests_failed\"].fillna(0)\n",
    "df[\"tr_log_num_tests_ok\"] = df[\"tr_log_num_tests_ok\"].fillna(0)\n",
    "df[\"tr_log_num_tests_failed\"] = df[\"tr_log_num_tests_failed\"].fillna(0)\n",
    "df[\"tr_log_num_tests_run\"] = df[\"tr_log_num_tests_run\"].fillna(0)\n",
    "df[\"tr_log_num_tests_failed\"] = df[\"tr_log_num_tests_failed\"].fillna(0)\n",
    "df[\"tr_log_num_tests_run\"] = df[\"tr_log_num_tests_run\"].fillna(0)\n",
    "df[\"tr_log_num_tests_skipped\"] = df[\"tr_log_num_tests_skipped\"].fillna(0)\n",
    "df[\"tr_log_tests_failed\"] = df[\"tr_log_tests_failed\"].fillna(0)\n",
    "df[\"tr_log_testduration\"] = df[\"tr_log_testduration\"].fillna(0)\n",
    "df[\"tr_log_buildduration\"] = df[\"tr_log_buildduration\"].fillna(0)"
   ]
  },
  {
   "cell_type": "markdown",
   "metadata": {},
   "source": [
    "##### Transform True/False into 1/0"
   ]
  },
  {
   "cell_type": "code",
   "execution_count": 69,
   "metadata": {},
   "outputs": [],
   "source": [
    "df[\"tr_log_bool_tests_ran\"] = df[\"tr_log_bool_tests_ran\"].astype(int)\n",
    "df[\"gh_by_core_team_member\"] = df[\"gh_by_core_team_member\"].astype(int)\n",
    "df[\"gh_is_pr\"] = df[\"gh_is_pr\"].astype(int)\n",
    "df[\"build_successful\"] = df[\"build_successful\"].astype(int)"
   ]
  },
  {
   "cell_type": "markdown",
   "metadata": {},
   "source": [
    "##### Delete the columns with no info"
   ]
  },
  {
   "cell_type": "code",
   "execution_count": 70,
   "metadata": {},
   "outputs": [],
   "source": [
    "# SHA\n",
    "df = df.drop('git_prev_built_commit', 1)\n",
    "df = df.drop('git_trigger_commit', 1)\n",
    "df = df.drop('git_all_built_commits', 1)\n",
    "df = df.drop('tr_original_commit', 1)\n",
    "df = df.drop('gh_commits_in_push', 1)\n",
    "df = df.drop('tr_virtual_merged_into', 1)\n",
    "\n",
    "# Jobs\n",
    "df = df.drop('tr_jobs', 1)\n",
    "\n",
    "# Status\n",
    "df = df.drop('tr_log_analyzer', 1)\n",
    "df = df.drop('tr_log_status', 1)\n",
    "df = df.drop('tr_log_lan', 1)\n",
    "df = df.drop('git_merged_with', 1)\n",
    "df = df.drop('gh_pull_req_num', 1)\n",
    "\n",
    "# Name\n",
    "df = df.drop('gh_project_name', 1)\n",
    "df = df.drop('tr_log_frameworks', 1)\n",
    "df = df.drop('tr_log_tests_failed', 1)\n",
    "df = df.drop('tr_log_bool_tests_failed', 1)\n",
    "\n",
    "# Id\n",
    "df = df.drop('tr_build_id', 1)\n",
    "df = df.drop('tr_prev_build', 1)\n",
    "df = df.drop('tr_job_id', 1)\n",
    "df = df.drop('tr_duration', 1)\n",
    "df = df.drop('tr_log_setup_time', 1)\n",
    "df = df.drop('tr_log_testduration', 1)\n",
    "df = df.drop('tr_log_buildduration', 1)\n",
    "df = df.drop('gh_num_commit_comments', 1)\n",
    "df = df.drop('gh_num_pr_comments', 1)\n",
    "df = df.drop('gh_description_complexity', 1)\n",
    "df = df.drop('tr_build_number', 1)\n",
    "\n",
    "# Date\n",
    "df = df.drop('gh_pushed_at', 1)\n",
    "df = df.drop('gh_build_started_at', 1)\n",
    "df = df.drop('gh_first_commit_created_at', 1)\n",
    "df = df.drop('gh_pr_created_at', 1)\n",
    "df = df.drop('tr_status', 1)\n",
    "df = df.drop('git_prev_commit_resolution_status', 1)"
   ]
  },
  {
   "cell_type": "markdown",
   "metadata": {},
   "source": [
    "##### Feature Engineering"
   ]
  },
  {
   "cell_type": "code",
   "execution_count": 71,
   "metadata": {},
   "outputs": [],
   "source": [
    "def check_master(branch):\n",
    "    if str(branch) == 'master':\n",
    "        return 1\n",
    "    else:\n",
    "        return 0\n",
    "\n",
    "df['is_master'] = df['git_branch'].apply(check_master)\n",
    "df = df.drop('git_branch', 1)"
   ]
  },
  {
   "cell_type": "markdown",
   "metadata": {},
   "source": [
    "##### Hot Encoding"
   ]
  },
  {
   "cell_type": "code",
   "execution_count": 72,
   "metadata": {},
   "outputs": [],
   "source": [
    "df = pd.get_dummies(df, columns=['gh_lang'])"
   ]
  },
  {
   "cell_type": "markdown",
   "metadata": {},
   "source": [
    "##### Move Y to the end"
   ]
  },
  {
   "cell_type": "code",
   "execution_count": 73,
   "metadata": {},
   "outputs": [],
   "source": [
    "results = df.build_successful.values\n",
    "df = df.drop('build_successful', axis=1)\n",
    "df['build_successful'] = results "
   ]
  },
  {
   "cell_type": "code",
   "execution_count": 77,
   "metadata": {},
   "outputs": [],
   "source": [
    "df.to_csv('../data/data-processed.csv', index = False, header=True)"
   ]
  },
  {
   "cell_type": "markdown",
   "metadata": {},
   "source": [
    "##### That's all folks!!!"
   ]
  },
  {
   "cell_type": "code",
   "execution_count": 76,
   "metadata": {},
   "outputs": [
    {
     "data": {
      "text/plain": [
       "(3702595, 31)"
      ]
     },
     "execution_count": 76,
     "metadata": {},
     "output_type": "execute_result"
    }
   ],
   "source": [
    "df.shape"
   ]
  },
  {
   "cell_type": "code",
   "execution_count": null,
   "metadata": {},
   "outputs": [],
   "source": [
    "df.gh_description_complexity.value_counts()"
   ]
  },
  {
   "cell_type": "code",
   "execution_count": null,
   "metadata": {},
   "outputs": [],
   "source": []
  }
 ],
 "metadata": {
  "kernelspec": {
   "display_name": "Python 3",
   "language": "python",
   "name": "python3"
  },
  "language_info": {
   "codemirror_mode": {
    "name": "ipython",
    "version": 3
   },
   "file_extension": ".py",
   "mimetype": "text/x-python",
   "name": "python",
   "nbconvert_exporter": "python",
   "pygments_lexer": "ipython3",
   "version": "3.8.2"
  }
 },
 "nbformat": 4,
 "nbformat_minor": 4
}
